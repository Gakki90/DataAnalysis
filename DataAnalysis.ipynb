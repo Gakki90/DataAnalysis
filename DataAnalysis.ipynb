{
 "cells": [
  {
   "cell_type": "markdown",
   "metadata": {},
   "source": [
    "The data we are using is from Udacity. Udacity, Inc. is a for-profit educational organization founded by Sebastian Thrun, David Stavens, and Mike Sokolsky offering massive open online courses.\n",
    "\n",
    "The data are stored in 3 files located in `./data/`. The file names are `enrollments.csv`, `daily_engagement.csv` and `project_submissions.csv`\n",
    "\n",
    "Here are some questions we would like to answer based on the data in hand:\n",
    "- How long to submit projects?\n",
    "- How do students who pass their project differ from those who don't?\n",
    "- You may have other questions, so let me know ...\n",
    "\n",
    "Take a look at the data and think of at least 5 questions you can answer using it.\n",
    "\n",
    "1. How time time the students spend taking class on Udacity?\n",
    "2. How time spent related to the number of lessons or projects completed?\n",
    "3. How student engagement changes over time?\n",
    "4. How many times students submit project before they pass?\n",
    "5. etc.\n"
   ]
  },
  {
   "cell_type": "markdown",
   "metadata": {},
   "source": [
    "## Load Data from CSVs"
   ]
  },
  {
   "cell_type": "code",
   "execution_count": 2,
   "metadata": {
    "scrolled": true
   },
   "outputs": [
    {
     "data": {
      "text/plain": [
       "[OrderedDict([('account_key', '448'),\n",
       "              ('status', 'canceled'),\n",
       "              ('join_date', '2014-11-10'),\n",
       "              ('cancel_date', '2015-01-14'),\n",
       "              ('days_to_cancel', '65'),\n",
       "              ('is_udacity', 'True'),\n",
       "              ('is_canceled', 'True')]),\n",
       " OrderedDict([('account_key', '448'),\n",
       "              ('status', 'canceled'),\n",
       "              ('join_date', '2014-11-05'),\n",
       "              ('cancel_date', '2014-11-10'),\n",
       "              ('days_to_cancel', '5'),\n",
       "              ('is_udacity', 'True'),\n",
       "              ('is_canceled', 'True')]),\n",
       " OrderedDict([('account_key', '448'),\n",
       "              ('status', 'canceled'),\n",
       "              ('join_date', '2015-01-27'),\n",
       "              ('cancel_date', '2015-01-27'),\n",
       "              ('days_to_cancel', '0'),\n",
       "              ('is_udacity', 'True'),\n",
       "              ('is_canceled', 'True')]),\n",
       " OrderedDict([('account_key', '448'),\n",
       "              ('status', 'canceled'),\n",
       "              ('join_date', '2014-11-10'),\n",
       "              ('cancel_date', '2014-11-10'),\n",
       "              ('days_to_cancel', '0'),\n",
       "              ('is_udacity', 'True'),\n",
       "              ('is_canceled', 'True')]),\n",
       " OrderedDict([('account_key', '448'),\n",
       "              ('status', 'current'),\n",
       "              ('join_date', '2015-03-10'),\n",
       "              ('cancel_date', ''),\n",
       "              ('days_to_cancel', ''),\n",
       "              ('is_udacity', 'True'),\n",
       "              ('is_canceled', 'False')])]"
      ]
     },
     "execution_count": 2,
     "metadata": {},
     "output_type": "execute_result"
    }
   ],
   "source": [
    "import unicodecsv\n",
    "import pandas as pd\n",
    "with open('enrollments.csv', 'rb') as f:\n",
    "    reader = unicodecsv.DictReader(f)\n",
    "    enrollments = list(reader)\n",
    "enrollments[0:5]"
   ]
  },
  {
   "cell_type": "code",
   "execution_count": 70,
   "metadata": {},
   "outputs": [],
   "source": [
    "#####################################\n",
    "#                 1                 #\n",
    "#####################################\n",
    "\n",
    "## Read in the data from daily_engagement.csv and project_submissions.csv \n",
    "## and store the results in the below variables.\n",
    "## Then look at the first row of each table.\n",
    "with open('daily_engagement.csv', 'rb') as f:\n",
    "    reader = unicodecsv.DictReader(f)\n",
    "    daily_engagement = list(reader)\n",
    "# update with your code\n",
    "daily_engagement\n",
    "with open('project_submissions.csv', 'rb') as f:\n",
    "    reader = unicodecsv.DictReader(f)\n",
    "    project_submissions = list(reader)\n",
    "# project_submissions # update with your code\n",
    "\n"
   ]
  },
  {
   "cell_type": "code",
   "execution_count": 71,
   "metadata": {},
   "outputs": [
    {
     "name": "stdout",
     "output_type": "stream",
     "text": [
      "Wrong Answer\n",
      "Correct Answer\n"
     ]
    }
   ],
   "source": [
    "# Do not change these lines\n",
    "from collections import OrderedDict\n",
    "print(\"Correct Answer\") if daily_engagement[1] == OrderedDict([('acct', '0'), ('utc_date', '2015-01-10'), ('num_courses_visited', '2.0'), ('total_minutes_visited', '37.2848873333'), ('lessons_completed', '0.0'), ('projects_completed', '0.0')]) else print(\"Wrong Answer\")\n",
    "print(\"Correct Answer\") if project_submissions[0] == OrderedDict([('creation_date', '2015-01-14'),('completion_date', '2015-01-16'),('assigned_rating', 'UNGRADED'),('account_key', '256'),('lesson_key', '3176718735'),('processing_state', 'EVALUATED')]) else print(\"Wrong Answer\")"
   ]
  },
  {
   "cell_type": "markdown",
   "metadata": {},
   "source": [
    "## Fixing Data Types"
   ]
  },
  {
   "cell_type": "markdown",
   "metadata": {},
   "source": [
    "After understand the data, you may want to select the parts of the data that you plan to use and check their types. From the enrollments data, we have the following\n",
    "'account_key', 'status','join_date', 'cancel_date','days_to_cancel','is_udacity','is_canceled'\n"
   ]
  },
  {
   "cell_type": "code",
   "execution_count": 72,
   "metadata": {},
   "outputs": [
    {
     "name": "stdout",
     "output_type": "stream",
     "text": [
      "2015-01-14\n",
      "65\n",
      "True\n",
      "True\n",
      "2014-11-10\n"
     ]
    }
   ],
   "source": [
    "print(enrollments[0]['cancel_date'])\n",
    "print(enrollments[0]['days_to_cancel'])\n",
    "print(enrollments[0]['is_canceled'])\n",
    "print(enrollments[0]['is_udacity'])\n",
    "print(enrollments[0]['join_date'])"
   ]
  },
  {
   "cell_type": "code",
   "execution_count": 73,
   "metadata": {},
   "outputs": [
    {
     "name": "stdout",
     "output_type": "stream",
     "text": [
      "<class 'str'>\n",
      "<class 'str'>\n",
      "<class 'str'>\n",
      "<class 'str'>\n",
      "<class 'str'>\n"
     ]
    }
   ],
   "source": [
    "print(type(enrollments[0]['cancel_date']))\n",
    "print(type(enrollments[0]['days_to_cancel']))\n",
    "print(type(enrollments[0]['is_canceled']))\n",
    "print(type(enrollments[0]['is_udacity']))\n",
    "print(type(enrollments[0]['join_date']))"
   ]
  },
  {
   "cell_type": "markdown",
   "metadata": {},
   "source": [
    "The datatypes are all str, although you have \"2015-01-14\" which could a date, \"65\" which could be an int and \"True\" which could be a Boolean value. Fixing these types will allow us to better maniipulate the data later on."
   ]
  },
  {
   "cell_type": "code",
   "execution_count": 74,
   "metadata": {},
   "outputs": [],
   "source": [
    "from datetime import datetime as dt\n",
    "\n",
    "# Takes a date as a string, and returns a Python datetime object. \n",
    "# If there is no date given, returns None\n",
    "def parse_date(date):\n",
    "    if date == '':\n",
    "        return None\n",
    "    else:\n",
    "        return dt.strptime(date, '%Y-%m-%d')\n",
    "    \n",
    "# Takes a string which is either an empty string or represents an integer,\n",
    "# and returns an int or None.\n",
    "def parse_maybe_int(i):\n",
    "    if i == '':\n",
    "        return None\n",
    "    else:\n",
    "        return int(i)\n",
    "\n",
    "# Clean up the data types in the enrollments table\n",
    "for enrollment in enrollments:\n",
    "    enrollment['cancel_date'] = parse_date(enrollment['cancel_date'])\n",
    "    enrollment['days_to_cancel'] = parse_maybe_int(enrollment['days_to_cancel'])\n",
    "    enrollment['is_canceled'] = enrollment['is_canceled'] == 'True'\n",
    "    enrollment['is_udacity'] = enrollment['is_udacity'] == 'True'\n",
    "    enrollment['join_date'] = parse_date(enrollment['join_date'])\n",
    "    \n"
   ]
  },
  {
   "cell_type": "code",
   "execution_count": null,
   "metadata": {},
   "outputs": [],
   "source": []
  },
  {
   "cell_type": "code",
   "execution_count": 76,
   "metadata": {},
   "outputs": [
    {
     "name": "stdout",
     "output_type": "stream",
     "text": [
      "2015-01-14 00:00:00\n",
      "65\n",
      "True\n",
      "True\n",
      "2014-11-10 00:00:00\n"
     ]
    }
   ],
   "source": [
    "print(enrollments[0]['cancel_date'])\n",
    "print(enrollments[0]['days_to_cancel'])\n",
    "print(enrollments[0]['is_canceled'])\n",
    "print(enrollments[0]['is_udacity'])\n",
    "print(enrollments[0]['join_date'])"
   ]
  },
  {
   "cell_type": "code",
   "execution_count": 77,
   "metadata": {},
   "outputs": [
    {
     "name": "stdout",
     "output_type": "stream",
     "text": [
      "<class 'datetime.datetime'>\n",
      "<class 'int'>\n",
      "<class 'bool'>\n",
      "<class 'bool'>\n",
      "<class 'datetime.datetime'>\n"
     ]
    }
   ],
   "source": [
    "print(type(enrollments[0]['cancel_date']))\n",
    "print(type(enrollments[0]['days_to_cancel']))\n",
    "print(type(enrollments[0]['is_canceled']))\n",
    "print(type(enrollments[0]['is_udacity']))\n",
    "print(type(enrollments[0]['join_date']))"
   ]
  },
  {
   "cell_type": "code",
   "execution_count": 78,
   "metadata": {},
   "outputs": [
    {
     "data": {
      "text/plain": [
       "OrderedDict([('acct', '0'),\n",
       "             ('utc_date', '2015/1/9'),\n",
       "             ('num_courses_visited', '1'),\n",
       "             ('total_minutes_visited', '11.6793745'),\n",
       "             ('lessons_completed', '0'),\n",
       "             ('projects_completed', '0')])"
      ]
     },
     "execution_count": 78,
     "metadata": {},
     "output_type": "execute_result"
    }
   ],
   "source": [
    "# Check the the engagement table\n",
    "daily_engagement[0]"
   ]
  },
  {
   "cell_type": "code",
   "execution_count": 79,
   "metadata": {},
   "outputs": [
    {
     "name": "stdout",
     "output_type": "stream",
     "text": [
      "0\n",
      "1\n",
      "0\n",
      "11.6793745\n",
      "2015/1/9\n"
     ]
    }
   ],
   "source": [
    "# Check further the elements that will later be used\n",
    "print(daily_engagement[0]['lessons_completed'])\n",
    "print(daily_engagement[0]['num_courses_visited'])\n",
    "print(daily_engagement[0]['projects_completed'])\n",
    "print(daily_engagement[0]['total_minutes_visited'])\n",
    "print(daily_engagement[0]['utc_date'])"
   ]
  },
  {
   "cell_type": "code",
   "execution_count": 80,
   "metadata": {},
   "outputs": [
    {
     "name": "stdout",
     "output_type": "stream",
     "text": [
      "<class 'str'>\n",
      "<class 'str'>\n",
      "<class 'str'>\n",
      "<class 'str'>\n",
      "<class 'str'>\n"
     ]
    }
   ],
   "source": [
    "# Check the types of the elements that will be used later\n",
    "print(type(daily_engagement[0]['lessons_completed']))\n",
    "print(type(daily_engagement[0]['num_courses_visited']))\n",
    "print(type(daily_engagement[0]['projects_completed']))\n",
    "print(type(daily_engagement[0]['total_minutes_visited']))\n",
    "print(type(daily_engagement[0]['utc_date']))"
   ]
  },
  {
   "cell_type": "code",
   "execution_count": 81,
   "metadata": {},
   "outputs": [],
   "source": [
    "#####################################\n",
    "#                 2                 #\n",
    "#####################################\n",
    "# Clean up the data types in the engagement table (update the types to what is needed)\n",
    "\n",
    "# lessons_completed type should be <class 'int'>\n",
    "# num_courses_visited type should be <class 'int'>\n",
    "# projects_completed type should be  <class 'int'>\n",
    "# total_minutes_visited type should be  <class 'float'>\n",
    "# utc_date type should be  <class 'datetime.datetime'>\n",
    "\n",
    "# Update the code below\n",
    "from datetime import datetime as dt\n",
    "\n",
    "def parse_date(date):\n",
    "    if date=='':\n",
    "        return None\n",
    "    else:\n",
    "        return dt.strptime(date,'%Y/%m/%d')\n",
    "\n",
    "def parse_int(i):\n",
    "    if i=='':\n",
    "        return None\n",
    "    else:\n",
    "        return int(float(i))\n",
    "    \n",
    "def parse_float(i):\n",
    "    if i=='':\n",
    "        return None\n",
    "    else:\n",
    "        return float(i)\n",
    "\n",
    "for each_daily_engagement in daily_engagement:\n",
    "    each_daily_engagement['lessons_completed']=parse_int(each_daily_engagement['lessons_completed'])\n",
    "    each_daily_engagement['num_courses_visited']=parse_int(each_daily_engagement['num_courses_visited'])\n",
    "    each_daily_engagement['projects_completed']=parse_int(each_daily_engagement['projects_completed'])\n",
    "    each_daily_engagement['total_minutes_visited']=parse_float(each_daily_engagement['total_minutes_visited'])\n",
    "    each_daily_engagement['utc_date']=parse_date(each_daily_engagement['utc_date'])\n",
    "\n",
    "\n",
    "\n"
   ]
  },
  {
   "cell_type": "code",
   "execution_count": 82,
   "metadata": {},
   "outputs": [
    {
     "name": "stdout",
     "output_type": "stream",
     "text": [
      "lessons_completed type is correct!\n",
      "num_courses_visited type is correct!\n",
      "projects_completed type is correct!\n",
      "total_minutes_visited type is correct!\n",
      "utc_date type is correct!\n"
     ]
    }
   ],
   "source": [
    "# Do not change the code in this cell\n",
    "\n",
    "print(\"lessons_completed type is correct!\") if str(type(daily_engagement[0]['lessons_completed'])) == \"<class 'int'>\" else print(\"Wrong!!\", type(daily_engagement[0]['lessons_completed']))\n",
    "print(\"num_courses_visited type is correct!\") if str(type(daily_engagement[0]['num_courses_visited'])) == \"<class 'int'>\" else print(\"Wrong!!\", type(daily_engagement[0]['lessons_completed']))\n",
    "print(\"projects_completed type is correct!\") if str(type(daily_engagement[0]['projects_completed'])) == \"<class 'int'>\" else print(\"Wrong!!\", type(daily_engagement[0]['lessons_completed']))\n",
    "print(\"total_minutes_visited type is correct!\") if str(type(daily_engagement[0]['total_minutes_visited'])) == \"<class 'float'>\" else print(\"Wrong!!\", type(daily_engagement[0]['lessons_completed']))\n",
    "print(\"utc_date type is correct!\") if str(type(daily_engagement[0]['utc_date'])) == \"<class 'datetime.datetime'>\" else print(\"Wrong!!\", type(daily_engagement[0]['lessons_completed']))\n"
   ]
  },
  {
   "cell_type": "code",
   "execution_count": 83,
   "metadata": {},
   "outputs": [
    {
     "data": {
      "text/plain": [
       "OrderedDict([('creation_date', datetime.datetime(2015, 1, 14, 0, 0)),\n",
       "             ('completion_date', datetime.datetime(2015, 1, 16, 0, 0)),\n",
       "             ('assigned_rating', 'UNGRADED'),\n",
       "             ('account_key', '256'),\n",
       "             ('lesson_key', '3176718735'),\n",
       "             ('processing_state', 'EVALUATED')])"
      ]
     },
     "execution_count": 83,
     "metadata": {},
     "output_type": "execute_result"
    }
   ],
   "source": [
    "# Clean up the data types in the submissions table\n",
    "def parse_date(date):\n",
    "    if date=='':\n",
    "        return None\n",
    "    else:\n",
    "        return dt.strptime(date,'%Y-%m-%d')\n",
    "for submission in project_submissions:\n",
    "    submission['completion_date'] = parse_date(submission['completion_date'])\n",
    "    submission['creation_date'] = parse_date(submission['creation_date'])\n",
    "\n",
    "project_submissions[0]"
   ]
  },
  {
   "cell_type": "markdown",
   "metadata": {},
   "source": [
    "## Great Job! \n",
    "What you have done so far is called data wrangling process. Which againi are: loading the data and making sure it's in a good format. \n",
    "\n",
    "The next step is to investigate a bit and see if there are any inconsistencies or problems in the data that you'll need to clean up.\n",
    "\n",
    "For each of the three files you've loaded, find the total number of rows in the csv and the number of unique students. To find the number of unique students in each table, you might want to try creating a set of the account keys.\n"
   ]
  },
  {
   "cell_type": "markdown",
   "metadata": {},
   "source": [
    "## Investigating the Data"
   ]
  },
  {
   "cell_type": "code",
   "execution_count": 84,
   "metadata": {},
   "outputs": [
    {
     "data": {
      "text/plain": [
       "743"
      ]
     },
     "execution_count": 84,
     "metadata": {},
     "output_type": "execute_result"
    }
   ],
   "source": [
    "#####################################\n",
    "#                 3                 #\n",
    "#####################################\n",
    "\n",
    "## Find the total number of rows and the number of unique students (account keys)\n",
    "## in each table.\n",
    "\n",
    "enrollment_num_rows = len(enrollments) # Replace this with your co\n",
    "\n",
    "acount_enrollment=set()\n",
    "for enrollment in enrollments:\n",
    "    acount_enrollment.add(enrollment['account_key'])\n",
    "    \n",
    "enrollment_num_unique_students =len(acount_enrollment)   # Replace this with your code\n",
    "\n",
    "engagement_num_rows = len(daily_engagement)  # Replace this with your code\n",
    "\n",
    "acount_engagament=set()\n",
    "for each in daily_engagement:\n",
    "    acount_engagament.add(each['acct'])\n",
    "    \n",
    "engagement_num_unique_students = len(acount_engagament) # Replace this with your code\n",
    "\n",
    "acount_submission=set()\n",
    "submission_num_rows = len(project_submissions)# Replace this with your code\n",
    "for each in project_submissions:\n",
    "    acount_submission.add(each[\"account_key\"])\n",
    "submission_num_unique_students = len(acount_submission) # Replace this with your code\n",
    "len(acount_submission)"
   ]
  },
  {
   "cell_type": "code",
   "execution_count": 85,
   "metadata": {
    "scrolled": true
   },
   "outputs": [
    {
     "name": "stdout",
     "output_type": "stream",
     "text": [
      "\n",
      "That's correct! But why are there students who enroll but never have any engagement data?\n",
      "\n",
      "Looks good! If you haven't already, try printing out each of those numbers to\n",
      "see what they are.\n"
     ]
    }
   ],
   "source": [
    "# D o not modifiy anything from this sell\n",
    "a = True if enrollment_num_rows == 1640 else False\n",
    "b = True if enrollment_num_unique_students == 1302 else False\n",
    "c = True if engagement_num_rows == 136240 else False\n",
    "d = True if engagement_num_unique_students == 1237 else False\n",
    "e = True if submission_num_rows == 3642 else False\n",
    "f = True if submission_num_unique_students == 743 else False\n",
    "\n",
    "\n",
    "message = '''\n",
    "That's correct! But why are there students who enroll but never have any engagement data?\n",
    "\n",
    "Looks good! If you haven't already, try printing out each of those numbers to\n",
    "see what they are.'''\n",
    "print(message) if a & b & c & d & e & f == True else print('\\nSomething is wrong with your answer, please try again!\\n')\n",
    "    \n"
   ]
  },
  {
   "cell_type": "markdown",
   "metadata": {},
   "source": [
    "## Problems in the Data\n",
    "\n",
    "1. Why are there more students in the enrollment table than the engagement table?\n",
    "2. In the `daily_engagement` the row that contains the student account key is named `acct`. To keep everything the same, it good to have it modified and renamed `account_key` like the account key in the other two files.\n",
    "\n",
    "\n"
   ]
  },
  {
   "cell_type": "code",
   "execution_count": 86,
   "metadata": {
    "scrolled": true
   },
   "outputs": [
    {
     "data": {
      "text/plain": [
       "'0'"
      ]
     },
     "execution_count": 86,
     "metadata": {},
     "output_type": "execute_result"
    }
   ],
   "source": [
    "#####################################\n",
    "#                 4                 #\n",
    "#####################################\n",
    "\n",
    "## Rename the \"acct\" column in the daily_engagement table to \"account_key\".\n",
    "s=daily_engagement.copy\n",
    "for line in daily_engagement:\n",
    "    line[\"account_key\"]=line.pop(\"acct\")\n",
    "daily_engagement[0]['account_key']\n"
   ]
  },
  {
   "cell_type": "code",
   "execution_count": 87,
   "metadata": {},
   "outputs": [
    {
     "name": "stdout",
     "output_type": "stream",
     "text": [
      "Well done!\n"
     ]
    }
   ],
   "source": [
    "# Do not change the content of this cell\n",
    "print('Well done!') if daily_engagement[0]['account_key'] == '0' else print(\"Please try again!\")"
   ]
  },
  {
   "cell_type": "markdown",
   "metadata": {},
   "source": [
    "Now you can easily create a function for getting the unique students that can be used for all 3 xml files.\n"
   ]
  },
  {
   "cell_type": "code",
   "execution_count": 88,
   "metadata": {},
   "outputs": [],
   "source": [
    "#####################################\n",
    "#                 5                 #\n",
    "#####################################\n",
    "\n",
    "# Create a function that can be used for for getting the list of the unique students\n",
    "# We will consider that the previous wrangling and processing were completed and the scripts were all run.\n",
    "def get_unique_students(data):\n",
    "    unique_students=set()\n",
    "    for data_point in data:\n",
    "        unique_students.add(data_point[\"account_key\"])\n",
    "    return unique_students\n",
    "   "
   ]
  },
  {
   "cell_type": "code",
   "execution_count": 89,
   "metadata": {
    "scrolled": true
   },
   "outputs": [
    {
     "name": "stdout",
     "output_type": "stream",
     "text": [
      "\n",
      "That's correct! But why are there students who enroll but never have any engagement data?\n",
      "\n",
      "Looks good! If you haven't already, try printing out each of those numbers to\n",
      "see what they are.\n"
     ]
    }
   ],
   "source": [
    "# Do not modify the content of this cell\n",
    "b = True if len(get_unique_students(enrollments)) == 1302 else False\n",
    "d = True if len(get_unique_students(daily_engagement)) == 1237 else False\n",
    "f = True if len(get_unique_students(project_submissions)) == 743 else False\n",
    "\n",
    "message = '''\n",
    "That's correct! But why are there students who enroll but never have any engagement data?\n",
    "\n",
    "Looks good! If you haven't already, try printing out each of those numbers to\n",
    "see what they are.'''           \n",
    "print(message) if b & d & f == True else print('\\nSomething is wrong with your answer, please try again!\\n')\n",
    "    "
   ]
  },
  {
   "cell_type": "code",
   "execution_count": 90,
   "metadata": {},
   "outputs": [
    {
     "name": "stdout",
     "output_type": "stream",
     "text": [
      "OrderedDict([('account_key', '1219'), ('status', 'canceled'), ('join_date', datetime.datetime(2014, 11, 12, 0, 0)), ('cancel_date', datetime.datetime(2014, 11, 12, 0, 0)), ('days_to_cancel', 0), ('is_udacity', False), ('is_canceled', True)])\n"
     ]
    }
   ],
   "source": [
    "# Find the number of surprising data points (enrollments missing from\n",
    "## the engagement table) that remain, if any.\n",
    "\n",
    "for row in enrollments:\n",
    "    if row[\"account_key\"] not in get_unique_students(daily_engagement):\n",
    "        print(row)\n",
    "        break"
   ]
  },
  {
   "cell_type": "code",
   "execution_count": 91,
   "metadata": {},
   "outputs": [
    {
     "name": "stdout",
     "output_type": "stream",
     "text": [
      "71 OrderedDict([('account_key', '448'), ('status', 'canceled'), ('join_date', datetime.datetime(2014, 11, 10, 0, 0)), ('cancel_date', datetime.datetime(2015, 1, 14, 0, 0)), ('days_to_cancel', 65), ('is_udacity', True), ('is_canceled', True)])\n"
     ]
    }
   ],
   "source": [
    "list_surprsing=list()\n",
    "for row in enrollments:\n",
    "    if row[\"account_key\"] not in get_unique_students(daily_engagement):\n",
    "        list_surprsing.append(row)\n",
    "    \n",
    "print(len(list_surprsing),enrollments[0])"
   ]
  },
  {
   "cell_type": "code",
   "execution_count": 92,
   "metadata": {},
   "outputs": [
    {
     "data": {
      "text/plain": [
       "3"
      ]
     },
     "execution_count": 92,
     "metadata": {},
     "output_type": "execute_result"
    }
   ],
   "source": [
    "list_surpring_stayed_enrolled_at_least_one_day=list()\n",
    "for row in enrollments:\n",
    "    if row['account_key'] not in get_unique_students(daily_engagement):\n",
    "        if row['days_to_cancel']!=0:\n",
    "            list_surpring_stayed_enrolled_at_least_one_day.append(row)\n",
    "len(list_surpring_stayed_enrolled_at_least_one_day)"
   ]
  },
  {
   "cell_type": "code",
   "execution_count": 93,
   "metadata": {},
   "outputs": [
    {
     "data": {
      "text/plain": [
       "6"
      ]
     },
     "execution_count": 93,
     "metadata": {},
     "output_type": "execute_result"
    }
   ],
   "source": [
    "udacity_test_accounts=set()\n",
    "for enrollment in enrollments:\n",
    "    if enrollment[\"is_udacity\"]:\n",
    "        udacity_test_accounts.add(enrollment['account_key'])\n",
    "len(udacity_test_accounts)"
   ]
  },
  {
   "cell_type": "code",
   "execution_count": 94,
   "metadata": {},
   "outputs": [
    {
     "name": "stdout",
     "output_type": "stream",
     "text": [
      "Before:  1640 and After:  1622  the difference is:  18\n",
      "Before:  136240 and After:  135656  the difference is:  584\n",
      "Before:  3642 and After:  3634  the difference is:  8\n"
     ]
    }
   ],
   "source": [
    "\n",
    "def remove_udacity_accounts(data):\n",
    "    non_udacity_data = []\n",
    "    # Your code below\n",
    "    for data_point in data:\n",
    "        if data_point['account_key'] not in udacity_test_accounts:\n",
    "            non_udacity_data.append(data_point)\n",
    "\n",
    "    # Your code below\n",
    "    return non_udacity_data\n",
    "\n",
    "non_udacity_enrollments = remove_udacity_accounts(enrollments)\n",
    "non_udacity_engagement = remove_udacity_accounts(daily_engagement)\n",
    "non_udacity_submissions = remove_udacity_accounts(project_submissions)\n",
    "\n",
    "print (\"Before: \", len(enrollments), \"and After: \",len(non_udacity_enrollments), \" the difference is: \", len(enrollments) - len(non_udacity_enrollments))\n",
    "print (\"Before: \", len(daily_engagement), \"and After: \",len(non_udacity_engagement), \" the difference is: \", len(daily_engagement)-len(non_udacity_engagement))\n",
    "print (\"Before: \", len(project_submissions), \"and After: \",len(non_udacity_submissions), \" the difference is: \", len(project_submissions) - len(non_udacity_submissions))"
   ]
  },
  {
   "cell_type": "markdown",
   "metadata": {},
   "source": [
    "##  Refining the Question"
   ]
  },
  {
   "cell_type": "code",
   "execution_count": 95,
   "metadata": {},
   "outputs": [
    {
     "name": "stdout",
     "output_type": "stream",
     "text": [
      "Your answer is  995  and the correct answer is 995\n"
     ]
    }
   ],
   "source": [
    "paid_students = dict()\n",
    "\n",
    "## Create a dictionary named paid_students containing all students who either\n",
    "## haven't canceled yet or who remained enrolled for at least 7 days. The keys\n",
    "## should be account keys, and the values should be the date the student enrolled.\n",
    "\n",
    "for row in non_udacity_enrollments:\n",
    "    if not row[\"is_canceled\"] or row[\"days_to_cancel\"] > 7:\n",
    "        paid_students[row['account_key']] = row['join_date']\n",
    "        \n",
    "\n",
    "# END write your code here\n",
    "\n",
    "print('Your answer is ', len(paid_students), ' and the correct answer is 995')"
   ]
  },
  {
   "cell_type": "markdown",
   "metadata": {},
   "source": [
    "## Getting Data from First Week"
   ]
  },
  {
   "cell_type": "code",
   "execution_count": 96,
   "metadata": {},
   "outputs": [
    {
     "name": "stdout",
     "output_type": "stream",
     "text": [
      "1293\n",
      "134549\n",
      "3618\n"
     ]
    }
   ],
   "source": [
    "\n",
    "# Takes a student's join date and the date of a specific engagement record,\n",
    "# and returns True if that engagement record happened within one week\n",
    "# of the student joining.\n",
    "\n",
    "paid_students=dict()\n",
    "for row in non_udacity_enrollments:\n",
    "    if not row[\"is_canceled\"] or row[\"days_to_cancel\"] > 7:\n",
    "        if paid_students.__contains__('account_key'):\n",
    "            if paid_students['account_key']<row['join_date']:\n",
    "                paid_students[row['account_key']] = row['join_date']\n",
    "                break\n",
    "        paid_students[row['account_key']] = row['join_date']\n",
    "len(paid_students)\n",
    "def remove_free_trial_cancels(data):\n",
    "    new_data = list()\n",
    "    for data_point in data:\n",
    "        if data_point['account_key'] in paid_students:\n",
    "            new_data.append(data_point)\n",
    "    return new_data\n",
    "paid_enrollments = remove_free_trial_cancels(non_udacity_enrollments)\n",
    "paid_engagement = remove_free_trial_cancels(non_udacity_engagement)\n",
    "paid_submissions = remove_free_trial_cancels(non_udacity_submissions)\n",
    "print(len(paid_enrollments))\n",
    "print(len(paid_engagement))\n",
    "print(len(paid_submissions))"
   ]
  },
  {
   "cell_type": "code",
   "execution_count": 97,
   "metadata": {
    "scrolled": false
   },
   "outputs": [
    {
     "name": "stdout",
     "output_type": "stream",
     "text": [
      "So, your answer is  17210\n",
      "The expected correct answer is:  17210\n"
     ]
    }
   ],
   "source": [
    "paid_engagement_in_first_week = list()\n",
    "for row in non_udacity_engagement:\n",
    "    if row['account_key'] in paid_students.keys() and (row['utc_date'] - paid_students.get(row['account_key'])).days < 7 :\n",
    "\n",
    "        paid_engagement_in_first_week.append(row)\n",
    "\n",
    "number_of_rows_that_meet_this_criteria = len(paid_engagement_in_first_week)\n",
    "\n",
    "print(\"That is correct but ... we can discuss this!\") if number_of_rows_that_meet_this_criteria == 21508 else print(\"So, your answer is \", number_of_rows_that_meet_this_criteria)\n",
    "print(\"You got it right\") if number_of_rows_that_meet_this_criteria == 6919 else print(\"The expected correct answer is: \", number_of_rows_that_meet_this_criteria)\n",
    "# for row in non_udacity_enrollments:\n",
    "#     if row['']"
   ]
  },
  {
   "cell_type": "code",
   "execution_count": 98,
   "metadata": {},
   "outputs": [
    {
     "name": "stdout",
     "output_type": "stream",
     "text": [
      "So, your answer is  6920\n",
      "The expected correct answer is:  6920\n"
     ]
    }
   ],
   "source": [
    "paid_engagement_in_first_week = list()\n",
    "for row in non_udacity_engagement:\n",
    "    if row['account_key'] in paid_students.keys() and (row['utc_date'] - paid_students.get(row['account_key'])).days < 7 and (row['utc_date'] - paid_students.get(row['account_key'])).days >= 0 :\n",
    "    \n",
    "\n",
    "        paid_engagement_in_first_week.append(row)\n",
    "\n",
    "number_of_rows_that_meet_this_criteria = len(paid_engagement_in_first_week)\n",
    "\n",
    "print(\"That is correct but ... we can discuss this!\") if number_of_rows_that_meet_this_criteria == 21508 else print(\"So, your answer is \", number_of_rows_that_meet_this_criteria)\n",
    "print(\"You got it right\") if number_of_rows_that_meet_this_criteria == 6919 else print(\"The expected correct answer is: \", number_of_rows_that_meet_this_criteria)"
   ]
  },
  {
   "cell_type": "code",
   "execution_count": 99,
   "metadata": {},
   "outputs": [
    {
     "name": "stdout",
     "output_type": "stream",
     "text": [
      "So, your answer is  6920\n",
      "The expected correct answer is:  6920\n"
     ]
    }
   ],
   "source": [
    "paid_engagement_in_first_week = list()\n",
    "for row in non_udacity_engagement:\n",
    "    if row['account_key'] in paid_students.keys() and (row['utc_date'] - paid_students.get(row['account_key'])).days < 7 and (row['utc_date'] - paid_students.get(row['account_key'])).days >= 0 :\n",
    "    \n",
    "\n",
    "        paid_engagement_in_first_week.append(row)\n",
    "\n",
    "number_of_rows_that_meet_this_criteria = len(paid_engagement_in_first_week)\n",
    "\n",
    "print(\"That is correct but ... we can discuss this!\") if number_of_rows_that_meet_this_criteria == 21508 else print(\"So, your answer is \", number_of_rows_that_meet_this_criteria)\n",
    "print(\"You got it right\") if number_of_rows_that_meet_this_criteria == 6919 else print(\"The expected correct answer is: \", number_of_rows_that_meet_this_criteria)\n"
   ]
  },
  {
   "cell_type": "code",
   "execution_count": 100,
   "metadata": {},
   "outputs": [],
   "source": [
    " from collections import defaultdict\n",
    "engagement_by_account=defaultdict(list)\n",
    "for engagement_record in paid_engagement_in_first_week:\n",
    "    account_key = engagement_record['account_key']\n",
    "    engagement_by_account[account_key].append(engagement_record)\n",
    "total_minutes_by_account={}\n",
    "\n",
    "for account_key,engagement_for_student in engagement_by_account.items():\n",
    "    total_minutes=0\n",
    "    for engagement_record in engagement_for_student:\n",
    "        total_minutes +=engagement_record['total_minutes_visited']\n",
    "    total_minutes_by_account[account_key]=total_minutes"
   ]
  },
  {
   "cell_type": "code",
   "execution_count": 101,
   "metadata": {},
   "outputs": [
    {
     "name": "stdout",
     "output_type": "stream",
     "text": [
      "Mean: 305.41471890738194\n",
      "Standard deviation: 405.91261032134884\n",
      "Minimum: 0.0\n",
      "Maximum: 3564.7332645\n"
     ]
    }
   ],
   "source": [
    "import numpy as np\n",
    "\n",
    "# Summarize the data about minutes spent in the classroom\n",
    "total_minutes = total_minutes_by_account.values()\n",
    "print ('Mean:', np.mean(list(total_minutes)))\n",
    "print ('Standard deviation:', np.std(list(total_minutes)))\n",
    "print ('Minimum:', np.min(list(total_minutes)))\n",
    "print ('Maximum:', np.max(list(total_minutes)))"
   ]
  },
  {
   "cell_type": "markdown",
   "metadata": {},
   "source": [
    "## count the lessons compeleted"
   ]
  },
  {
   "cell_type": "code",
   "execution_count": 102,
   "metadata": {
    "scrolled": true
   },
   "outputs": [
    {
     "name": "stdout",
     "output_type": "stream",
     "text": [
      "the number of lessons completed by each student during the first week\n",
      "mean: 1.6321608040201006\n",
      "standard deviation: 3.0014018256251003\n",
      "minimum: 0\n",
      "Maximum: 36\n"
     ]
    }
   ],
   "source": [
    "all_lessons_compeleted_by_account=defaultdict(list)\n",
    "for engagement in paid_engagement_in_first_week:\n",
    "    account_key=engagement['account_key']\n",
    "    all_lessons_compeleted_by_account[account_key].append(engagement['lessons_completed'])\n",
    "\n",
    "#  sum_total_lessons_compeleted_by_account={account_key:sum(lessons_compeleted_by_account) for account_key,lessons_compeleted_by_account in all_lessons_compeleted_by_account.items()}\n",
    "sum_total_lessons_compeleted_by_account = {account_key:sum(lessons_completed_by_account) for account_key, lessons_completed_by_account in all_lessons_compeleted_by_account.items()}\n",
    "print(\"the number of lessons completed by each student during the first week\")\n",
    "all_students_lessons_completed=sum_total_lessons_compeleted_by_account.values()\n",
    "\n",
    "print('mean:',np.mean(list(all_students_lessons_completed)))\n",
    "print('standard deviation:',np.std(list(all_students_lessons_completed)))\n",
    "print('minimum:',np.min(list(all_students_lessons_completed)))\n",
    "print('Maximum:',np.max(list(all_students_lessons_completed)))"
   ]
  },
  {
   "cell_type": "code",
   "execution_count": 103,
   "metadata": {},
   "outputs": [],
   "source": [
    "def group_by_account_key(data,value_need):\n",
    "    from collections import defaultdict\n",
    "    group=defaultdict(list)\n",
    "    for data_point in data:\n",
    "        account_key=data_point['account_key']\n",
    "        group[account_key].append(data_point[value_need])\n",
    "    return group\n",
    "\n",
    "def group_sum(group):\n",
    "    sum_={account_key:sum(values) for account_key,values in group.items()}\n",
    "    return sum_\n",
    "\n",
    "def report(group_sum,title):\n",
    "    values=group_sum.values()\n",
    "    print(title)\n",
    "    print ('Mean:', np.mean(list(values)))\n",
    "    print ('Standard deviation:', np.std(list(values)))\n",
    "    print ('Minimum:', np.min(list(values)))\n",
    "    print ('Maximum:', np.max(list(values)))\n",
    "    print(\"\\n\")"
   ]
  },
  {
   "cell_type": "code",
   "execution_count": 104,
   "metadata": {},
   "outputs": [
    {
     "name": "stdout",
     "output_type": "stream",
     "text": [
      "total project completed\n",
      "Mean: 1.6321608040201006\n",
      "Standard deviation: 3.0014018256251003\n",
      "Minimum: 0\n",
      "Maximum: 36\n",
      "\n",
      "\n"
     ]
    }
   ],
   "source": [
    "group_by_account=group_by_account_key(paid_engagement_in_first_week,'lessons_completed')\n",
    "group_sum_=group_sum(group_by_account)\n",
    "\n",
    "report(group_sum_,'total project completed')"
   ]
  },
  {
   "cell_type": "markdown",
   "metadata": {},
   "source": [
    "## count the the days visited the classroom"
   ]
  },
  {
   "cell_type": "code",
   "execution_count": 105,
   "metadata": {},
   "outputs": [
    {
     "name": "stdout",
     "output_type": "stream",
     "text": [
      "number days each student visits the classroom\n",
      "Mean: 2.912562814070352\n",
      "Standard deviation: 2.22037005490701\n",
      "Minimum: 0\n",
      "Maximum: 7\n",
      "\n",
      "\n"
     ]
    }
   ],
   "source": [
    "import copy\n",
    "group_by_account_=group_by_account_key(paid_engagement_in_first_week,'num_courses_visited')\n",
    "group_by_account_bool=copy.deepcopy(group_by_account_)\n",
    "for index,my_list in group_by_account_.items():\n",
    "    array=np.asarray(my_list)\n",
    "    my_bool_array=array>0\n",
    "    my_bool_list=list(my_bool_array)\n",
    "    group_by_account_bool[index]=sum(my_bool_list)\n",
    "report(group_by_account_bool,'number days each student visits the classroom')"
   ]
  },
  {
   "cell_type": "markdown",
   "metadata": {},
   "source": [
    "## Two list of who pass the subway project and who do not"
   ]
  },
  {
   "cell_type": "code",
   "execution_count": 106,
   "metadata": {},
   "outputs": [
    {
     "name": "stdout",
     "output_type": "stream",
     "text": [
      "653\n",
      "passing_engagement:  4528\n",
      "non_passing_engagement:  2392\n"
     ]
    }
   ],
   "source": [
    "subway_project_lesson_keys = ['746169184', '3176718735']\n",
    "pass_subway_project =set()\n",
    "for submission in project_submissions:\n",
    "    project = submission['lesson_key']\n",
    "    rating = submission['assigned_rating']\n",
    "    if project in subway_project_lesson_keys and \\\n",
    "    (rating == 'PASSED' or rating == \"DISTINCTION\"):\n",
    "        pass_subway_project.add(submission['account_key'])\n",
    "print(len(pass_subway_project))\n",
    "\n",
    "passing_engagement = []\n",
    "non_passing_engagement = []\n",
    "for engagement_record in paid_engagement_in_first_week:\n",
    "    if engagement_record['account_key'] in pass_subway_project:\n",
    "        passing_engagement.append(engagement_record)\n",
    "    else:\n",
    "        non_passing_engagement.append(engagement_record)\n",
    "        \n",
    "print('passing_engagement: ',len(passing_engagement))\n",
    "print('non_passing_engagement: ', len(non_passing_engagement))"
   ]
  },
  {
   "cell_type": "markdown",
   "metadata": {},
   "source": [
    "## Comparint the two students groups\n"
   ]
  },
  {
   "cell_type": "code",
   "execution_count": 139,
   "metadata": {},
   "outputs": [
    {
     "name": "stdout",
     "output_type": "stream",
     "text": [
      "Summary from the passing_engagement based on the total minutes visited\n",
      "Mean: 391.4817223243107\n",
      "Standard deviation: 439.6530617291988\n",
      "Minimum: 0.0\n",
      "Maximum: 3564.7332645\n",
      "\n",
      "\n"
     ]
    }
   ],
   "source": [
    "group_by_account_ = group_by_account_key(passing_engagement, 'total_minutes_visited')\n",
    "group_sum_minutes_passing = group_sum(group_by_account_)\n",
    "report(group_sum_minutes_passing ,'Summary from the passing_engagement based on the total minutes visited')"
   ]
  },
  {
   "cell_type": "code",
   "execution_count": 140,
   "metadata": {},
   "outputs": [
    {
     "name": "stderr",
     "output_type": "stream",
     "text": [
      "D:\\Anaconda\\lib\\site-packages\\matplotlib\\axes\\_axes.py:6521: MatplotlibDeprecationWarning: \n",
      "The 'normed' kwarg was deprecated in Matplotlib 2.1 and will be removed in 3.1. Use 'density' instead.\n",
      "  alternative=\"'density'\", removal=\"3.1\")\n"
     ]
    },
    {
     "data": {
      "image/png": "[encoded data removed]",
      "text/plain": [
       "<Figure size 432x288 with 1 Axes>"
      ]
     },
     "metadata": {
      "needs_background": "light"
     },
     "output_type": "display_data"
    }
   ],
   "source": [
    "import matplotlib.pyplot as plt\n",
    "data3 = group_sum_.values()\n",
    "plt.hist(data3 , bins=40, normed=0, facecolor=\"blue\", edgecolor=\"black\", alpha=0.7)\n",
    "# 显示横轴标签\n",
    "plt.xlabel(\"total_minutes_visited\")\n",
    "# 显示纵轴标签\n",
    "plt.ylabel(\"number\")\n",
    "# 显示图标题\n",
    "plt.title(\"passing_engagement\")\n",
    "plt.show()"
   ]
  },
  {
   "cell_type": "code",
   "execution_count": 150,
   "metadata": {},
   "outputs": [
    {
     "name": "stdout",
     "output_type": "stream",
     "text": [
      "Summary from the passing_engagement based on the total lessons completed\n",
      "Mean: 2.043276661514683\n",
      "Standard deviation: 3.1428602763006612\n",
      "Minimum: 0\n",
      "Maximum: 36\n",
      "\n",
      "\n"
     ]
    },
    {
     "name": "stderr",
     "output_type": "stream",
     "text": [
      "D:\\Anaconda\\lib\\site-packages\\matplotlib\\axes\\_axes.py:6521: MatplotlibDeprecationWarning: \n",
      "The 'normed' kwarg was deprecated in Matplotlib 2.1 and will be removed in 3.1. Use 'density' instead.\n",
      "  alternative=\"'density'\", removal=\"3.1\")\n"
     ]
    },
    {
     "data": {
      "image/png": "[encoded data removed]",
      "text/plain": [
       "<Figure size 432x288 with 1 Axes>"
      ]
     },
     "metadata": {
      "needs_background": "light"
     },
     "output_type": "display_data"
    }
   ],
   "source": [
    "group_by_account_ = group_by_account_key(passing_engagement, 'lessons_completed')\n",
    "group_sum_lessons_passing = group_sum(group_by_account_)\n",
    "report(group_sum_lessons_passing ,'Summary from the passing_engagement based on the total lessons completed')\n",
    "data3 = group_sum_.values()\n",
    "plt.hist(data3 , bins=40, normed=0, facecolor=\"blue\", edgecolor=\"black\", alpha=0.7)\n",
    "# 显示横轴标签\n",
    "plt.xlabel(\"lessons_completed\")\n",
    "# 显示纵轴标签\n",
    "plt.ylabel(\"number\")\n",
    "# 显示图标题\n",
    "plt.title(\"passing_engagement\")\n",
    "plt.show()"
   ]
  },
  {
   "cell_type": "code",
   "execution_count": null,
   "metadata": {},
   "outputs": [],
   "source": []
  },
  {
   "cell_type": "code",
   "execution_count": 141,
   "metadata": {},
   "outputs": [
    {
     "name": "stdout",
     "output_type": "stream",
     "text": [
      "Summary from the passing_engagement based on the total num_courses_visited\n",
      "Mean: 4.777434312210201\n",
      "Standard deviation: 3.6454011893707445\n",
      "Minimum: 0\n",
      "Maximum: 25\n",
      "\n",
      "\n"
     ]
    },
    {
     "name": "stderr",
     "output_type": "stream",
     "text": [
      "D:\\Anaconda\\lib\\site-packages\\matplotlib\\axes\\_axes.py:6521: MatplotlibDeprecationWarning: \n",
      "The 'normed' kwarg was deprecated in Matplotlib 2.1 and will be removed in 3.1. Use 'density' instead.\n",
      "  alternative=\"'density'\", removal=\"3.1\")\n"
     ]
    },
    {
     "data": {
      "image/png": "[encoded data removed]",
      "text/plain": [
       "<Figure size 432x288 with 1 Axes>"
      ]
     },
     "metadata": {
      "needs_background": "light"
     },
     "output_type": "display_data"
    }
   ],
   "source": [
    "group_by_account_ = group_by_account_key(passing_engagement, 'num_courses_visited')\n",
    "group_sum_courses_passing = group_sum(group_by_account_)\n",
    "report(group_sum_courses_passing ,'Summary from the passing_engagement based on the total num_courses_visited')\n",
    "data3 = group_sum_.values()\n",
    "plt.hist(data3 , bins=40, normed=0, facecolor=\"blue\", edgecolor=\"black\", alpha=0.7)\n",
    "# 显示横轴标签\n",
    "plt.xlabel(\"num_courses_visited\")\n",
    "# 显示纵轴标签\n",
    "plt.ylabel(\"number\")\n",
    "# 显示图标题\n",
    "plt.title(\"non_passing_engagement\")\n",
    "plt.show()"
   ]
  },
  {
   "cell_type": "code",
   "execution_count": null,
   "metadata": {},
   "outputs": [],
   "source": []
  },
  {
   "cell_type": "code",
   "execution_count": 142,
   "metadata": {},
   "outputs": [
    {
     "name": "stdout",
     "output_type": "stream",
     "text": [
      "Summary from the mon_passing_engagement based on the total minutes visited\n",
      "Mean: 145.39934186498854\n",
      "Standard deviation: 268.97150372555103\n",
      "Minimum: 0.0\n",
      "Maximum: 1768.5227493\n",
      "\n",
      "\n"
     ]
    },
    {
     "name": "stderr",
     "output_type": "stream",
     "text": [
      "D:\\Anaconda\\lib\\site-packages\\matplotlib\\axes\\_axes.py:6521: MatplotlibDeprecationWarning: \n",
      "The 'normed' kwarg was deprecated in Matplotlib 2.1 and will be removed in 3.1. Use 'density' instead.\n",
      "  alternative=\"'density'\", removal=\"3.1\")\n"
     ]
    },
    {
     "data": {
      "image/png": "[encoded data removed]",
      "text/plain": [
       "<Figure size 432x288 with 1 Axes>"
      ]
     },
     "metadata": {
      "needs_background": "light"
     },
     "output_type": "display_data"
    }
   ],
   "source": [
    "group_by_account_ = group_by_account_key(non_passing_engagement, 'total_minutes_visited')\n",
    "group_sum_minutes_non_passing = group_sum(group_by_account_)\n",
    "report(group_sum_minutes_non_passing ,'Summary from the mon_passing_engagement based on the total minutes visited')\n",
    "data3 = group_sum_.values()\n",
    "plt.hist(data3 , bins=40, normed=0, facecolor=\"blue\", edgecolor=\"black\", alpha=0.7)\n",
    "# 显示横轴标签\n",
    "plt.xlabel(\"total_minutes_visited\")\n",
    "# 显示纵轴标签\n",
    "plt.ylabel(\"number\")\n",
    "# 显示图标题\n",
    "plt.title(\"non_passing_engagement\")\n",
    "plt.show()"
   ]
  },
  {
   "cell_type": "code",
   "execution_count": 143,
   "metadata": {},
   "outputs": [
    {
     "name": "stdout",
     "output_type": "stream",
     "text": [
      "Summary from the non_ passing_engagement based on the total lessons completed\n",
      "Mean: 0.867816091954023\n",
      "Standard deviation: 2.5483370395862583\n",
      "Minimum: 0\n",
      "Maximum: 27\n",
      "\n",
      "\n"
     ]
    },
    {
     "name": "stderr",
     "output_type": "stream",
     "text": [
      "D:\\Anaconda\\lib\\site-packages\\matplotlib\\axes\\_axes.py:6521: MatplotlibDeprecationWarning: \n",
      "The 'normed' kwarg was deprecated in Matplotlib 2.1 and will be removed in 3.1. Use 'density' instead.\n",
      "  alternative=\"'density'\", removal=\"3.1\")\n"
     ]
    },
    {
     "data": {
      "image/png": "[encoded data removed]",
      "text/plain": [
       "<Figure size 432x288 with 1 Axes>"
      ]
     },
     "metadata": {
      "needs_background": "light"
     },
     "output_type": "display_data"
    }
   ],
   "source": [
    "group_by_account_ = group_by_account_key(non_passing_engagement, 'lessons_completed')\n",
    "group_sum_lessons_non_passing = group_sum(group_by_account_)\n",
    "report(group_sum_lessons_non_passing ,'Summary from the non_ passing_engagement based on the total lessons completed')\n",
    "data3 = group_sum_.values()\n",
    "plt.hist(data3 , bins=40, normed=0, facecolor=\"blue\", edgecolor=\"black\", alpha=0.7)\n",
    "# 显示横轴标签\n",
    "plt.xlabel(\"lessons_completed\")\n",
    "# 显示纵轴标签\n",
    "plt.ylabel(\"number\")\n",
    "# 显示图标题\n",
    "plt.title(\"non_passing_engagement\")\n",
    "plt.show()"
   ]
  },
  {
   "cell_type": "code",
   "execution_count": 144,
   "metadata": {},
   "outputs": [
    {
     "name": "stdout",
     "output_type": "stream",
     "text": [
      "Summary from the non_passing_engagement based on the total num_courses_visited\n",
      "Mean: 2.6379310344827585\n",
      "Standard deviation: 2.874970919565484\n",
      "Minimum: 0\n",
      "Maximum: 18\n",
      "\n",
      "\n"
     ]
    },
    {
     "name": "stderr",
     "output_type": "stream",
     "text": [
      "D:\\Anaconda\\lib\\site-packages\\matplotlib\\axes\\_axes.py:6521: MatplotlibDeprecationWarning: \n",
      "The 'normed' kwarg was deprecated in Matplotlib 2.1 and will be removed in 3.1. Use 'density' instead.\n",
      "  alternative=\"'density'\", removal=\"3.1\")\n"
     ]
    },
    {
     "data": {
      "image/png": "[encoded data removed]",
      "text/plain": [
       "<Figure size 432x288 with 1 Axes>"
      ]
     },
     "metadata": {
      "needs_background": "light"
     },
     "output_type": "display_data"
    }
   ],
   "source": [
    "group_by_account_ = group_by_account_key(non_passing_engagement, 'num_courses_visited')\n",
    "group_sum_courses_non_passing = group_sum(group_by_account_)\n",
    "report(group_sum_courses_non_passing ,'Summary from the non_passing_engagement based on the total num_courses_visited')\n",
    "data3 = group_sum_.values()\n",
    "plt.hist(data3 , bins=40, normed=0, facecolor=\"blue\", edgecolor=\"black\", alpha=0.7)\n",
    "# 显示横轴标签\n",
    "plt.xlabel(\"num_courses_visited\")\n",
    "# 显示纵轴标签\n",
    "plt.ylabel(\"nmber\")\n",
    "# 显示图标题\n",
    "plt.title(\"non_passing_engagement\")\n",
    "plt.show()"
   ]
  },
  {
   "cell_type": "markdown",
   "metadata": {},
   "source": [
    "## the days visited differ for students who pass  vs. students who don't"
   ]
  },
  {
   "cell_type": "code",
   "execution_count": 136,
   "metadata": {},
   "outputs": [
    {
     "name": "stdout",
     "output_type": "stream",
     "text": [
      "number days visited for who passing\n",
      "Mean: 3.42967542503864\n",
      "Standard deviation: 2.2129834086555964\n",
      "Minimum: 0\n",
      "Maximum: 7\n",
      "\n",
      "\n"
     ]
    },
    {
     "name": "stderr",
     "output_type": "stream",
     "text": [
      "D:\\Anaconda\\lib\\site-packages\\matplotlib\\axes\\_axes.py:6521: MatplotlibDeprecationWarning: \n",
      "The 'normed' kwarg was deprecated in Matplotlib 2.1 and will be removed in 3.1. Use 'density' instead.\n",
      "  alternative=\"'density'\", removal=\"3.1\")\n"
     ]
    },
    {
     "data": {
      "image/png": "[encoded data removed]",
      "text/plain": [
       "<Figure size 432x288 with 1 Axes>"
      ]
     },
     "metadata": {
      "needs_background": "light"
     },
     "output_type": "display_data"
    }
   ],
   "source": [
    "import copy\n",
    "days_visited_passing=group_by_account_key(passing_engagement,'num_courses_visited')\n",
    "days_visited_passing_bool=copy.deepcopy(days_visited_passing)\n",
    "for index,my_list in days_visited_passing.items():\n",
    "    array_=np.asarray(my_list)\n",
    "    my_bool_array=array_>0\n",
    "#     my_bool_list=list(my_bool_array)\n",
    "    days_visited_passing_bool[index]=sum(my_bool_array)\n",
    "report(days_visited_passing_bool,\"number days visited for who passing\")\n",
    "data3 = days_visited_passing_bool.values()\n",
    "plt.hist(data3 , bins=40, normed=0, facecolor=\"blue\", edgecolor=\"black\", alpha=0.7)\n",
    "# 显示横轴标签\n",
    "plt.xlabel(\"num_days_visited\")\n",
    "# 显示纵轴标签\n",
    "plt.ylabel(\"nmber\")\n",
    "# 显示图标题\n",
    "plt.title(\"passing_engagement\")\n",
    "plt.show()"
   ]
  },
  {
   "cell_type": "code",
   "execution_count": 148,
   "metadata": {},
   "outputs": [
    {
     "name": "stdout",
     "output_type": "stream",
     "text": [
      "number days visited for who do not passing\n",
      "Mean: 3.42967542503864\n",
      "Standard deviation: 2.2129834086555964\n",
      "Minimum: 0\n",
      "Maximum: 7\n",
      "\n",
      "\n"
     ]
    },
    {
     "name": "stderr",
     "output_type": "stream",
     "text": [
      "D:\\Anaconda\\lib\\site-packages\\matplotlib\\axes\\_axes.py:6521: MatplotlibDeprecationWarning: \n",
      "The 'normed' kwarg was deprecated in Matplotlib 2.1 and will be removed in 3.1. Use 'density' instead.\n",
      "  alternative=\"'density'\", removal=\"3.1\")\n"
     ]
    },
    {
     "data": {
      "image/png": "[encoded data removed]",
      "text/plain": [
       "<Figure size 432x288 with 1 Axes>"
      ]
     },
     "metadata": {
      "needs_background": "light"
     },
     "output_type": "display_data"
    },
    {
     "data": {
      "text/plain": [
       "dict"
      ]
     },
     "execution_count": 148,
     "metadata": {},
     "output_type": "execute_result"
    }
   ],
   "source": [
    "import copy\n",
    "days_visited_non_passing=group_by_account_key(non_passing_engagement,'num_courses_visited')\n",
    "days_visited_non_passing_bool=copy.deepcopy(days_visited_non_passing)\n",
    "for index,my_list in days_visited_non_passing.items():\n",
    "    array_=np.asarray(my_list)\n",
    "    my_bool_array=array_>0\n",
    "#     my_bool_list=list(my_bool_array)\n",
    "    days_visited_non_passing_bool[index]=sum(my_bool_array)\n",
    "report(days_visited_passing_bool,\"number days visited for who do not passing\")\n",
    "data3 = days_visited_non_passing_bool.values()\n",
    "plt.hist(data3 , bins=40, normed=0, facecolor=\"blue\", edgecolor=\"black\", alpha=0.7)\n",
    "# 显示横轴标签\n",
    "plt.xlabel(\"num_days_visited\")\n",
    "# 显示纵轴标签\n",
    "plt.ylabel(\"nmber\")\n",
    "# 显示图标题\n",
    "plt.title(\"non_passing_engagement\")\n",
    "plt.show()\n"
   ]
  },
  {
   "cell_type": "markdown",
   "metadata": {},
   "source": [
    "## KNeighborsClassifier\n"
   ]
  },
  {
   "cell_type": "code",
   "execution_count": null,
   "metadata": {},
   "outputs": [],
   "source": [
    "passing_engagement_dataset=np.zeros((647,4),dtype='float')\n",
    "non_passing_engagement_dataset=np.zeros((348,4),dtype='float')\n",
    "Y=np.zeros((647+348,),dtype='bool')\n",
    "i=0\n",
    "j=0\n",
    "\n",
    " \n",
    "for each in group_sum_courses_passing.keys():\n",
    "    passing_engagement_dataset[i][0]=group_sum_minutes_passing[each]\n",
    "    passing_engagement_dataset[i][1]=group_sum_lessons_passing[each]\n",
    "    passing_engagement_dataset[i][2]=group_sum_courses_passing[each]\n",
    "    passing_engagement_dataset[i][3]=days_visited_passing_bool[each]\n",
    "    Y[i]=True\n",
    "    i+=1\n",
    "    \n",
    "for each in group_sum_courses_non_passing.keys():\n",
    "    non_passing_engagement_dataset[j][0]=group_sum_minutes_non_passing[each]\n",
    "    non_passing_engagement_dataset[j][1]=group_sum_lessons_non_passing[each]\n",
    "    non_passing_engagement_dataset[j][2]=group_sum_courses_non_passing[each]\n",
    "    non_passing_engagement_dataset[j][3]=days_visited_non_passing_bool[each]\n",
    "    Y[i+j]=False\n",
    "    j+=1\n",
    "\n",
    "\n",
    "\n",
    "    \n",
    "\n",
    "\n"
   ]
  },
  {
   "cell_type": "code",
   "execution_count": 166,
   "metadata": {},
   "outputs": [
    {
     "data": {
      "text/plain": [
       "array([[494.8804961 ,   1.        ,   9.        ,   7.        ],\n",
       "       [ 18.57638467,   0.        ,   2.        ,   2.        ],\n",
       "       [  0.        ,   0.        ,   0.        ,   0.        ],\n",
       "       ...,\n",
       "       [  0.        ,   0.        ,   0.        ,   0.        ],\n",
       "       [ 12.18271117,   1.        ,   2.        ,   2.        ],\n",
       "       [  9.77147383,   0.        ,   2.        ,   2.        ]])"
      ]
     },
     "execution_count": 166,
     "metadata": {},
     "output_type": "execute_result"
    }
   ],
   "source": [
    "from numpy import *\n",
    "X=concatenate((passing_engagement_dataset,non_passing_engagement_dataset),axis=0)\n",
    "\n",
    "X"
   ]
  },
  {
   "cell_type": "code",
   "execution_count": 168,
   "metadata": {},
   "outputs": [
    {
     "name": "stdout",
     "output_type": "stream",
     "text": [
      "The accuracy is 57.0%\n",
      "The average accuracy is 68.1%\n"
     ]
    },
    {
     "name": "stderr",
     "output_type": "stream",
     "text": [
      "D:\\Anaconda\\lib\\site-packages\\sklearn\\model_selection\\_split.py:2053: FutureWarning: You should specify a value for 'cv' instead of relying on the default value. The default value will change from 3 to 5 in version 0.22.\n",
      "  warnings.warn(CV_WARNING, FutureWarning)\n"
     ]
    }
   ],
   "source": [
    "from sklearn.model_selection import train_test_split,cross_val_score\n",
    "X_train, X_test, y_train, y_test = train_test_split(X, Y, random_state=14)\n",
    "from sklearn.neighbors import KNeighborsClassifier \n",
    "estimator = KNeighborsClassifier()\n",
    "estimator.fit(X_train, y_train)\n",
    "y_predicted = estimator.predict(X_test) \n",
    "accuracy = np.mean(y_test == y_predicted) * 100\n",
    "\n",
    "#cross invalidation\n",
    "print(\"The accuracy is {0:.1f}%\".format(accuracy))\n",
    "scores = cross_val_score(estimator, X, Y, scoring='accuracy') \n",
    "average_accuracy = np.mean(scores) * 100 \n",
    "print(\"The average accuracy is {0:.1f}%\".format(average_accuracy))"
   ]
  },
  {
   "cell_type": "code",
   "execution_count": 169,
   "metadata": {},
   "outputs": [
    {
     "name": "stderr",
     "output_type": "stream",
     "text": [
      "D:\\Anaconda\\lib\\site-packages\\sklearn\\model_selection\\_split.py:2053: FutureWarning: You should specify a value for 'cv' instead of relying on the default value. The default value will change from 3 to 5 in version 0.22.\n",
      "  warnings.warn(CV_WARNING, FutureWarning)\n",
      "D:\\Anaconda\\lib\\site-packages\\sklearn\\model_selection\\_split.py:2053: FutureWarning: You should specify a value for 'cv' instead of relying on the default value. The default value will change from 3 to 5 in version 0.22.\n",
      "  warnings.warn(CV_WARNING, FutureWarning)\n",
      "D:\\Anaconda\\lib\\site-packages\\sklearn\\model_selection\\_split.py:2053: FutureWarning: You should specify a value for 'cv' instead of relying on the default value. The default value will change from 3 to 5 in version 0.22.\n",
      "  warnings.warn(CV_WARNING, FutureWarning)\n",
      "D:\\Anaconda\\lib\\site-packages\\sklearn\\model_selection\\_split.py:2053: FutureWarning: You should specify a value for 'cv' instead of relying on the default value. The default value will change from 3 to 5 in version 0.22.\n",
      "  warnings.warn(CV_WARNING, FutureWarning)\n",
      "D:\\Anaconda\\lib\\site-packages\\sklearn\\model_selection\\_split.py:2053: FutureWarning: You should specify a value for 'cv' instead of relying on the default value. The default value will change from 3 to 5 in version 0.22.\n",
      "  warnings.warn(CV_WARNING, FutureWarning)\n",
      "D:\\Anaconda\\lib\\site-packages\\sklearn\\model_selection\\_split.py:2053: FutureWarning: You should specify a value for 'cv' instead of relying on the default value. The default value will change from 3 to 5 in version 0.22.\n",
      "  warnings.warn(CV_WARNING, FutureWarning)\n",
      "D:\\Anaconda\\lib\\site-packages\\sklearn\\model_selection\\_split.py:2053: FutureWarning: You should specify a value for 'cv' instead of relying on the default value. The default value will change from 3 to 5 in version 0.22.\n",
      "  warnings.warn(CV_WARNING, FutureWarning)\n",
      "D:\\Anaconda\\lib\\site-packages\\sklearn\\model_selection\\_split.py:2053: FutureWarning: You should specify a value for 'cv' instead of relying on the default value. The default value will change from 3 to 5 in version 0.22.\n",
      "  warnings.warn(CV_WARNING, FutureWarning)\n",
      "D:\\Anaconda\\lib\\site-packages\\sklearn\\model_selection\\_split.py:2053: FutureWarning: You should specify a value for 'cv' instead of relying on the default value. The default value will change from 3 to 5 in version 0.22.\n",
      "  warnings.warn(CV_WARNING, FutureWarning)\n",
      "D:\\Anaconda\\lib\\site-packages\\sklearn\\model_selection\\_split.py:2053: FutureWarning: You should specify a value for 'cv' instead of relying on the default value. The default value will change from 3 to 5 in version 0.22.\n",
      "  warnings.warn(CV_WARNING, FutureWarning)\n",
      "D:\\Anaconda\\lib\\site-packages\\sklearn\\model_selection\\_split.py:2053: FutureWarning: You should specify a value for 'cv' instead of relying on the default value. The default value will change from 3 to 5 in version 0.22.\n",
      "  warnings.warn(CV_WARNING, FutureWarning)\n",
      "D:\\Anaconda\\lib\\site-packages\\sklearn\\model_selection\\_split.py:2053: FutureWarning: You should specify a value for 'cv' instead of relying on the default value. The default value will change from 3 to 5 in version 0.22.\n",
      "  warnings.warn(CV_WARNING, FutureWarning)\n",
      "D:\\Anaconda\\lib\\site-packages\\sklearn\\model_selection\\_split.py:2053: FutureWarning: You should specify a value for 'cv' instead of relying on the default value. The default value will change from 3 to 5 in version 0.22.\n",
      "  warnings.warn(CV_WARNING, FutureWarning)\n",
      "D:\\Anaconda\\lib\\site-packages\\sklearn\\model_selection\\_split.py:2053: FutureWarning: You should specify a value for 'cv' instead of relying on the default value. The default value will change from 3 to 5 in version 0.22.\n",
      "  warnings.warn(CV_WARNING, FutureWarning)\n",
      "D:\\Anaconda\\lib\\site-packages\\sklearn\\model_selection\\_split.py:2053: FutureWarning: You should specify a value for 'cv' instead of relying on the default value. The default value will change from 3 to 5 in version 0.22.\n",
      "  warnings.warn(CV_WARNING, FutureWarning)\n",
      "D:\\Anaconda\\lib\\site-packages\\sklearn\\model_selection\\_split.py:2053: FutureWarning: You should specify a value for 'cv' instead of relying on the default value. The default value will change from 3 to 5 in version 0.22.\n",
      "  warnings.warn(CV_WARNING, FutureWarning)\n",
      "D:\\Anaconda\\lib\\site-packages\\sklearn\\model_selection\\_split.py:2053: FutureWarning: You should specify a value for 'cv' instead of relying on the default value. The default value will change from 3 to 5 in version 0.22.\n",
      "  warnings.warn(CV_WARNING, FutureWarning)\n",
      "D:\\Anaconda\\lib\\site-packages\\sklearn\\model_selection\\_split.py:2053: FutureWarning: You should specify a value for 'cv' instead of relying on the default value. The default value will change from 3 to 5 in version 0.22.\n",
      "  warnings.warn(CV_WARNING, FutureWarning)\n",
      "D:\\Anaconda\\lib\\site-packages\\sklearn\\model_selection\\_split.py:2053: FutureWarning: You should specify a value for 'cv' instead of relying on the default value. The default value will change from 3 to 5 in version 0.22.\n",
      "  warnings.warn(CV_WARNING, FutureWarning)\n",
      "D:\\Anaconda\\lib\\site-packages\\sklearn\\model_selection\\_split.py:2053: FutureWarning: You should specify a value for 'cv' instead of relying on the default value. The default value will change from 3 to 5 in version 0.22.\n",
      "  warnings.warn(CV_WARNING, FutureWarning)\n"
     ]
    },
    {
     "data": {
      "text/plain": [
       "[array([0.63253012, 0.60843373, 0.62839879]),\n",
       " array([0.59337349, 0.53915663, 0.58006042]),\n",
       " array([0.64759036, 0.65060241, 0.67673716]),\n",
       " array([0.6686747 , 0.61144578, 0.64350453]),\n",
       " array([0.68373494, 0.65662651, 0.70392749]),\n",
       " array([0.6686747 , 0.63554217, 0.68882175]),\n",
       " array([0.6686747 , 0.64457831, 0.69486405]),\n",
       " array([0.65662651, 0.65361446, 0.68277946]),\n",
       " array([0.65361446, 0.65060241, 0.66465257]),\n",
       " array([0.63855422, 0.65662651, 0.66163142]),\n",
       " array([0.64457831, 0.65662651, 0.66163142]),\n",
       " array([0.65060241, 0.65060241, 0.65256798]),\n",
       " array([0.65662651, 0.66566265, 0.65256798]),\n",
       " array([0.66566265, 0.68072289, 0.64652568]),\n",
       " array([0.65662651, 0.67771084, 0.65256798]),\n",
       " array([0.65662651, 0.68072289, 0.64652568]),\n",
       " array([0.65060241, 0.68373494, 0.64350453]),\n",
       " array([0.65361446, 0.68373494, 0.63746224]),\n",
       " array([0.65662651, 0.69578313, 0.65256798]),\n",
       " array([0.65662651, 0.68975904, 0.64350453])]"
      ]
     },
     "execution_count": 169,
     "metadata": {},
     "output_type": "execute_result"
    }
   ],
   "source": [
    "avg_scores = [] \n",
    "all_scores = [] \n",
    "parameter_values = list(range(1, 21)) # Include 20 \n",
    "for n_neighbors in parameter_values: \n",
    "    estimator = KNeighborsClassifier(n_neighbors=n_neighbors) \n",
    "    scores = cross_val_score(estimator, X, Y, scoring='accuracy')\n",
    "    avg_scores.append(np.mean(scores)) \n",
    "    all_scores.append(scores)\n",
    "all_scores"
   ]
  },
  {
   "cell_type": "code",
   "execution_count": 170,
   "metadata": {},
   "outputs": [
    {
     "data": {
      "text/plain": [
       "[<matplotlib.lines.Line2D at 0x28e833f1588>]"
      ]
     },
     "execution_count": 170,
     "metadata": {},
     "output_type": "execute_result"
    },
    {
     "data": {
      "image/png": "[encoded data removed]",
      "text/plain": [
       "<Figure size 432x288 with 1 Axes>"
      ]
     },
     "metadata": {
      "needs_background": "light"
     },
     "output_type": "display_data"
    }
   ],
   "source": [
    "%matplotlib inline\n",
    "from matplotlib import pyplot as plt \n",
    "plt.plot(parameter_values, avg_scores, '-o')"
   ]
  },
  {
   "cell_type": "code",
   "execution_count": 160,
   "metadata": {},
   "outputs": [],
   "source": [
    "# from sklearn.preprocessing import MinMaxScaler\n",
    "# X_transformed = MinMaxScaler().fit_transform(X)\n",
    "# estimator = KNeighborsClassifier() \n",
    "# transformed_scores = cross_val_score(estimator, X_transformed, Y, \n",
    "#  scoring='accuracy') \n",
    "# print(\"The average accuracy for is {0:.1f}%\".format(np.mean(transformed_scores) * 100))"
   ]
  },
  {
   "cell_type": "code",
   "execution_count": null,
   "metadata": {},
   "outputs": [],
   "source": []
  }
 ],
 "metadata": {
  "kernelspec": {
   "display_name": "Python 3",
   "language": "python",
   "name": "python3"
  },
  "language_info": {
   "codemirror_mode": {
    "name": "ipython",
    "version": 3
   },
   "file_extension": ".py",
   "mimetype": "text/x-python",
   "name": "python",
   "nbconvert_exporter": "python",
   "pygments_lexer": "ipython3",
   "version": "3.7.3"
  },
  "toc": {
   "base_numbering": 1,
   "nav_menu": {},
   "number_sections": true,
   "sideBar": true,
   "skip_h1_title": false,
   "title_cell": "Table of Contents",
   "title_sidebar": "Contents",
   "toc_cell": false,
   "toc_position": {
    "height": "calc(100% - 180px)",
    "left": "10px",
    "top": "150px",
    "width": "234.716px"
   },
   "toc_section_display": true,
   "toc_window_display": true
  }
 },
 "nbformat": 4,
 "nbformat_minor": 1
}
